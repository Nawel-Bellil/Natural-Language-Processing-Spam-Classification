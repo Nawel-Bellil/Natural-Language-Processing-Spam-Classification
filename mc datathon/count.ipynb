{
 "cells": [
  {
   "cell_type": "code",
   "execution_count": 3,
   "metadata": {},
   "outputs": [
    {
     "name": "stdout",
     "output_type": "stream",
     "text": [
      "Total lines of code in the notebook: 534\n"
     ]
    }
   ],
   "source": [
    "# Counting lines of code in a Jupyter Notebook cell\n",
    "def count_lines(cell):\n",
    "    if isinstance(cell, list):\n",
    "        return sum(len(line.split('\\n')) for line in cell)\n",
    "    else:\n",
    "        return len(cell.split('\\n'))\n",
    "\n",
    "# Get the current Jupyter Notebook content\n",
    "with open('C:/Users/Morsi Store DZ/nlp/mc datathon/st_pt.ipynb', 'r', encoding='utf-8') as file:\n",
    "    notebook_content = file.read()\n",
    "\n",
    "# Parsing notebook content to count lines of code\n",
    "import json\n",
    "notebook = json.loads(notebook_content)\n",
    "total_lines = 0\n",
    "for cell in notebook['cells']:\n",
    "    if cell['cell_type'] == 'code':\n",
    "        total_lines += count_lines(cell['source'])\n",
    "\n",
    "print(\"Total lines of code in the notebook:\", total_lines)\n"
   ]
  }
 ],
 "metadata": {
  "kernelspec": {
   "display_name": "Python 3",
   "language": "python",
   "name": "python3"
  },
  "language_info": {
   "codemirror_mode": {
    "name": "ipython",
    "version": 3
   },
   "file_extension": ".py",
   "mimetype": "text/x-python",
   "name": "python",
   "nbconvert_exporter": "python",
   "pygments_lexer": "ipython3",
   "version": "3.12.3"
  }
 },
 "nbformat": 4,
 "nbformat_minor": 2
}
